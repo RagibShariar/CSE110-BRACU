{
 "cells": [
  {
   "cell_type": "markdown",
   "metadata": {
    "id": "xDNsncrtU1yM"
   },
   "source": [
    "# CSE110 Assignment 3\n",
    "\n"
   ]
  },
  {
   "cell_type": "markdown",
   "metadata": {
    "id": "gh4GUDaIU1yO"
   },
   "source": [
    "\n",
    "## Write the Python code of the following problems:\n",
    "\n",
    "**<font color='red'>[MUST MAINTAIN VARIABLE NAMING CONVENTIONS FOR ALL THE TASKS]</font>**\n",
    "\n",
    "## Part 1: String\n",
    "\n",
    "\n",
    "\n"
   ]
  },
  {
   "cell_type": "markdown",
   "metadata": {
    "id": "KD4EKJf6U1yQ"
   },
   "source": [
    "### Task 1 \n",
    "\n",
    "Write a Python program that will ask the user to input a string (containing exactly one word). Then your program should print a subsequent substring of the given string.\n",
    "\n",
    "=====================================================================\n",
    "\n",
    "**Example1:**\\\n",
    "Input: BANGLA\\\n",
    "Output:\\\n",
    "B\\\n",
    "BA\\\n",
    "BAN\\\n",
    "BANG\\\n",
    "BANGL\\\n",
    "BANGLA\n",
    "\n",
    "=====================================================================\n",
    "\n",
    "**Example2:**\\\n",
    "Input: DREAM\\\n",
    "Output:\\\n",
    "D\\\n",
    "DR\\\n",
    "DRE\\\n",
    "DREA\\\n",
    "DREAM\n",
    "\n",
    "=====================================================================\n",
    "\n",
    "**Hints(1):** Need to use \"for loop\" for this task.\n",
    "\n",
    "**Hints(2):** Need to use print() function for printing newlines.\n",
    "\n",
    "For example:\\\n",
    "print(1)\\\n",
    "print(2)\n",
    "\n",
    "Output:\\\n",
    "1\\\n",
    "2\n",
    "\n",
    "=====================================================================\n",
    "\n",
    "We need use print(end = \"\") to skip printing the additional newline.\n",
    "\n",
    "For example:\\\n",
    "print(1, end =\" \")\\\n",
    "print(2)\n",
    "\n",
    "Output:(prints the next output right to the previous one)\\\n",
    "12\n",
    "\n",
    "=====================================================================\n",
    "\n",
    "\n",
    "\n",
    "\n"
   ]
  },
  {
   "cell_type": "code",
   "execution_count": 5,
   "metadata": {
    "id": "vJhpmj2XU1yR"
   },
   "outputs": [
    {
     "name": "stdout",
     "output_type": "stream",
     "text": [
      "Enter the word:bdfvbxbvsfgb\n",
      "b\n",
      "bd\n",
      "bdf\n",
      "bdfv\n",
      "bdfvb\n",
      "bdfvbx\n",
      "bdfvbxb\n",
      "bdfvbxbv\n",
      "bdfvbxbvs\n",
      "bdfvbxbvsf\n",
      "bdfvbxbvsfg\n",
      "bdfvbxbvsfgb\n"
     ]
    }
   ],
   "source": [
    "#Todo\n",
    "s =str(input(\"Enter a word :\"))\n",
    "n=len(s)\n",
    "\n",
    "for i in range(n):\n",
    "    for len in range(i + 1, n + 1):\n",
    "        print(s[i: len])\n",
    "    break"
   ]
  },
  {
   "cell_type": "markdown",
   "metadata": {
    "id": "pbdeIVcyU1yi"
   },
   "source": [
    "### Task2\n",
    "\n",
    "Write a Python program that will ask the user to enter a  word as an input. \n",
    "\n",
    "* If the length of the input string is less than 4, then your program should print the same string as an output. \n",
    "* If the input string’s length is greater than 3, then your program should add \"er\" at the end of the input string. \n",
    "* If the input string already ends with \"er\", then add \"est\" instead. \n",
    "* If the input string already ends with \"est\", then your program should print the same input string as an output.\n",
    "\n",
    "=====================================================================\n",
    "\n",
    "**Example 1:**\\\n",
    "Input: strong\\\n",
    "Output: stronger\n",
    "\n",
    "=====================================================================\n",
    "\n",
    "**Example 2:**\\\n",
    "Input: stronger\\\n",
    "Output: strongest\n",
    "\n",
    "=====================================================================\n",
    "\n",
    "**Example 3:**\\\n",
    "Input: strongest\\\n",
    "Output: strongest\n",
    "\n",
    "=====================================================================\n",
    "\n",
    "**Example 4:**\\\n",
    "Input: abc\\\n",
    "Output: abc\n"
   ]
  },
  {
   "cell_type": "code",
   "execution_count": 5,
   "metadata": {
    "id": "A5df9pmJU1yj"
   },
   "outputs": [
    {
     "name": "stdout",
     "output_type": "stream",
     "text": [
      "Enter a word: stronger\n",
      "strongest\n"
     ]
    }
   ],
   "source": [
    "#Todo\n",
    "n = str(input(\"Enter a word: \"))\n",
    "s = len(n)\n",
    "\n",
    "if s>3:\n",
    "    if n.endswith(\"er\"):\n",
    "        a=n.replace(\"er\",\"est\")\n",
    "        print(a)\n",
    "    elif n.endswith(\"est\"):\n",
    "        print(n)\n",
    "    else:\n",
    "\n",
    "        print(n + \"er\")\n",
    "else:\n",
    "    print(n)\n"
   ]
  },
  {
   "cell_type": "markdown",
   "metadata": {
    "id": "PsBbgc4YU1yp"
   },
   "source": [
    "### Task3\n",
    "\n",
    "Write a Python program that will ask the user to input a string (containing exactly one word). Then print code for each character in the String using the ord() function. Use any means necessary.\n",
    "\n",
    "To check if your program is working correctly or not, you can find a list of all correct values from the following website. Look at “Dec” and “Char” columns only, ignore other columns.\\\n",
    "link: http://www.asciitable.com/\n",
    "\n",
    "=====================================================================\n",
    "\n",
    "**Example 1:**\\\n",
    "Input: Programming\\\n",
    "Output:\\\n",
    "P : 80\\\n",
    "r : 114\\\n",
    "o : 111\\\n",
    "g : 103\\\n",
    "r : 114\\\n",
    "a : 97\\\n",
    "m : 109\\\n",
    "m : 109\\\n",
    "i : 105\\\n",
    "n : 110\\\n",
    "g : 103\n",
    "\n",
    "=====================================================================\n",
    "\n",
    "**Example 2:**\\\n",
    "Input: hunger\\\n",
    "Output:\\\n",
    "h : 104\\\n",
    "u : 117\\\n",
    "n : 110\\\n",
    "g : 103\\\n",
    "e : 101\\\n",
    "r : 114 "
   ]
  },
  {
   "cell_type": "code",
   "execution_count": 4,
   "metadata": {
    "id": "r8by7ONZU1ys"
   },
   "outputs": [
    {
     "name": "stdout",
     "output_type": "stream",
     "text": [
      "Enter a word :hunger\n",
      "h : 104\n",
      "u : 117\n",
      "n : 110\n",
      "g : 103\n",
      "e : 101\n",
      "r : 114\n"
     ]
    }
   ],
   "source": [
    "#todo\n",
    "n = input(\"Enter a word :\")\n",
    "for i in n:\n",
    "    s = ord(i)\n",
    "    print(i ,':', s)"
   ]
  },
  {
   "cell_type": "markdown",
   "metadata": {
    "id": "O8lIVppgU1yw"
   },
   "source": [
    "### Task4\n",
    "\n",
    "Given a word as input in small letters, print the next alphabet in sequence for each alphabet found in the input.\n",
    "\n",
    "=====================================================================\n",
    "\n",
    "\n",
    "*Hint: You need to use functions ord() and chr(). The ASCII value of ‘a’ is 97 and ‘z’ is 122.*\n",
    "\n",
    "=====================================================================\n",
    "\n",
    "**Example1:**\\\n",
    "Input: abcd\\\n",
    "Output: bcde\n",
    "\n",
    "**Example2:**\\\n",
    "Input: the cow\\\n",
    "Output: uif!dpx\n",
    "\n",
    "**Example3: <font color='red'>[Must fulfil this criteria]</font>**\\\n",
    "Input: xyzabc\\\n",
    "Output: yzabcd\n",
    "\n",
    "\n"
   ]
  },
  {
   "cell_type": "code",
   "execution_count": 12,
   "metadata": {
    "id": "Hyvy8WNNU1yx"
   },
   "outputs": [
    {
     "name": "stdout",
     "output_type": "stream",
     "text": [
      "Enter a word : xyzabcd\n",
      "yzabcde"
     ]
    }
   ],
   "source": [
    "#todo\n",
    "n=input(\"Enter a word : \")\n",
    "for i in n:\n",
    "    if i ==\"z\":\n",
    "        print(\"a\", end=\"\")\n",
    "    else:\n",
    "        print(chr(ord(i)+1) , end=\"\")"
   ]
  },
  {
   "cell_type": "markdown",
   "metadata": {
    "id": "leVtdAsdymXM"
   },
   "source": [
    "### Task 5\n",
    "\n",
    "Write a Python program that will ask the user to enter two strings (s1, s2) as an input. Then create a mixed string with alternative characters from each string. Any leftover chars will be appended at the end of the result string.\n",
    "\n",
    "=====================================================================\n",
    "\n",
    "*Hint: For adding the leftover characters use string slicing.*\n",
    "\n",
    "=====================================================================\n",
    "\n",
    "**Example 1:**\\\n",
    "Input:\\\n",
    "\"ABCD\"\\\n",
    "\"efgh\"\n",
    "\n",
    "Output:\\\n",
    "AeBfCgDh\n",
    "\n",
    "=====================================================================\n",
    "\n",
    "**Example 2:**\\\n",
    "Input:\\\n",
    "\"ABCDENDFGH\"\\\n",
    "\"ijkl\"\n",
    "\n",
    "Output:\\\n",
    "AiBjCkDlENDFGH\n",
    "\n",
    "=====================================================================\n",
    "\n",
    "**Example 3:**\\\n",
    "Input:\\\n",
    "\"ijkl\"\\\n",
    "\"ABCDENDFGH\"\n",
    "\n",
    "Output:\\\n",
    "iAjBkClDENDFGH\n",
    "\n",
    "=====================================================================\n",
    "\n",
    "\n",
    "\n",
    "\n"
   ]
  },
  {
   "cell_type": "code",
   "execution_count": 13,
   "metadata": {
    "id": "kC1cq47myny6"
   },
   "outputs": [
    {
     "name": "stdout",
     "output_type": "stream",
     "text": [
      "Please enter a word: ijkl\n",
      "Please enter a word: ABCDENDFGH\n",
      "iAjBkClDENDFGH\n"
     ]
    }
   ],
   "source": [
    "#Todo\n",
    "word1 = input(\"Please enter a word: \")\n",
    "word2 = input(\"Please enter a word: \")\n",
    "\n",
    "emptyStr = \"\"\n",
    "if len(word1) > len(word2):\n",
    "  smaller = word2\n",
    "  larger = word1\n",
    "else:\n",
    "  smaller = word1\n",
    "  larger = word2\n",
    "\n",
    "for r in range(len(smaller)):\n",
    "  if r < len(smaller):\n",
    "    emptyStr = emptyStr + word1[r]\n",
    "    emptyStr = emptyStr + word2[r]\n",
    "  else:\n",
    "    emptyStr = emptyStr + larger[r:]\n",
    "\n",
    "emptyStr = emptyStr + larger[r+1:]\n",
    "print(emptyStr)"
   ]
  },
  {
   "cell_type": "markdown",
   "metadata": {
    "id": "AWQJrJW3U1y3"
   },
   "source": [
    "### Task6\n",
    "Given a string, create a new string with all the consecutive duplicates **removed**. \n",
    "\n",
    "=====================================================================\n",
    "\n",
    "**Hint:** You need to make a new string to store your answer. Check whether the current character and the next character are the same, then add that character to the answer.\n",
    "\n",
    "=====================================================================\n",
    "\n",
    "**Example:**\\\n",
    "**Input**:\\\n",
    "AAABBBBCDDBBECE\\\n",
    "**Output:**\\\n",
    "ABCDBECE\n",
    "\n",
    "\n",
    "\n"
   ]
  },
  {
   "cell_type": "code",
   "execution_count": 14,
   "metadata": {
    "id": "oNv_JNgUU1y4"
   },
   "outputs": [
    {
     "name": "stdout",
     "output_type": "stream",
     "text": [
      "Enter a word :AAABBBBCDDBBECE\n",
      "ABCDE\n"
     ]
    }
   ],
   "source": [
    "#Todo\n",
    "a = input(\"Enter a word :\")\n",
    "b = \"\"\n",
    "\n",
    "for i in a:\n",
    "    if i not in b:\n",
    "        b = b + i\n",
    "print(b)"
   ]
  },
  {
   "cell_type": "markdown",
   "metadata": {
    "id": "ptcRoNgKzG9-"
   },
   "source": [
    "### Task7\n",
    "\n",
    "Write a Python program that takes a string as an input from the user. Then checks whether the input is a palindrome or Not.\n",
    "\n",
    "==========================================\n",
    "\n",
    "*Hints(1): Check the characters from the starting point and the ending point*\n",
    "\n",
    "==========================================\n",
    "\n",
    "**Sample Input**<br/>\n",
    "1235321<br/>\n",
    "\n",
    "**Sample Output**<br/>\n",
    "Palindrome<br/>\n",
    "\n",
    "\n",
    "==========================================\n",
    "\n",
    "**Sample Input**<br/>\n",
    "1233521<br/>\n",
    "\n",
    "**Sample Output**<br/>\n",
    "Not a Palindrome<br/>\n",
    "\n",
    "==========================================\n",
    "\n",
    "**Sample Input**<br/>\n",
    "abcba<br/>\n",
    "\n",
    "**Sample Output**<br/>\n",
    "Palindrome<br/>\n"
   ]
  },
  {
   "cell_type": "code",
   "execution_count": 1,
   "metadata": {
    "id": "v0DzroXdzNeM"
   },
   "outputs": [
    {
     "name": "stdout",
     "output_type": "stream",
     "text": [
      "Enter a word :mango\n",
      "Not a Palindrome\n"
     ]
    }
   ],
   "source": [
    "#Todo\n",
    "a = input(\"Enter a word :\")\n",
    "b = \"\"\n",
    "for i in a:\n",
    "    b = i + b\n",
    "if (a == b):\n",
    "    print(\"Palindrome\")\n",
    "else:\n",
    "    print(\"Not a Palindrome\")\n"
   ]
  },
  {
   "cell_type": "markdown",
   "metadata": {
    "id": "vHRyG1W3zOBU"
   },
   "source": [
    "### Task8\n",
    "\n",
    "Write a Python program that takes a string as an input from the user. Then checks whether the input is a number, word or mixed with digit and letters. \n",
    "\n",
    "* If all the characters are numeric values, print NUMBER. \n",
    "* If they are all letters, print WORD. \n",
    "* If it is mixed, print MIXED.\n",
    "\n",
    "\n",
    "==========================================\n",
    "\n",
    "*Hints: need to take all the alphabets in either uppercase or lower case. Flags/counters can be used to check the different categorories*\n",
    "\n",
    "==========================================\n",
    "\n",
    "**Sample Input**\n",
    "213213\n",
    "\n",
    "**Sample Output**\n",
    "NUMBER\n",
    "\n",
    "\n",
    "==========================================\n",
    "\n",
    "**Sample Input**\n",
    "jhg231j213\n",
    "\n",
    "**Sample Output**\n",
    "MIXED\n",
    "\n",
    "==========================================\n",
    "\n",
    "**Sample Input**\n",
    "Hello\n",
    "\n",
    "**Sample Output**\n",
    "WORD\n"
   ]
  },
  {
   "cell_type": "code",
   "execution_count": 2,
   "metadata": {
    "id": "jRMkFIk20hwL"
   },
   "outputs": [
    {
     "name": "stdout",
     "output_type": "stream",
     "text": [
      "Please enter a word: ngvcngc588585hbfhgdh\n",
      "MIXED\n"
     ]
    }
   ],
   "source": [
    "#Todo\n",
    "word = str(input(\"Please enter a word: \"))\n",
    "numList = \"0123456789\"\n",
    "alphList = \"abcdefghijklmnopqrstuvwxyzABSDEFGHIJKLMNOPQRSTUVWXYZ\"\n",
    "num = False\n",
    "alph = False\n",
    "for r in word:\n",
    "  for z in numList:\n",
    "    if r == z:\n",
    "      num = True\n",
    "      break\n",
    "  for k in  alphList:\n",
    "    if k == r:\n",
    "      alph = True\n",
    "      break  \n",
    "if num == True and alph == False:\n",
    "  print(\"NUMBER\")\n",
    "if num == True and alph == True:\n",
    "  print(\"MIXED\")\n",
    "if num == False and alph == True:\n",
    "  print(\"WORD\")"
   ]
  },
  {
   "cell_type": "markdown",
   "metadata": {
    "id": "4zI6tmFN0i4y"
   },
   "source": [
    "### Task09\n",
    "\n",
    "Write a python program that takes 2 inputs from the user, where the first input is a string with length greater than 1. The second input is the index of the first given string from where you have to start reversing. Then print the new string back to the user.\n",
    "\n",
    "========================================\n",
    "\n",
    "**Sample Input**<br/>\n",
    "72418, 4<br/>\n",
    "**Sample Output**<br/>\n",
    "81427<br/>\n",
    "\n",
    "\n",
    "========================================\n",
    "\n",
    "**Sample Input**<br/>\n",
    "12345, 2<br/>\n",
    "**Sample Output**<br/>\n",
    "32145<br/>\n",
    "\n",
    "========================================\n",
    "\n",
    "**Sample Input**<br/>\n",
    "aBcd1234defg, 5<br/>\n",
    "**Sample Output**<br/>\n",
    "21dcBa34defg<br/>"
   ]
  },
  {
   "cell_type": "code",
   "execution_count": 16,
   "metadata": {
    "id": "lModRb2L0oqS"
   },
   "outputs": [
    {
     "name": "stdout",
     "output_type": "stream",
     "text": [
      "Please enter a word: aBcd1234defg\n",
      "Please enter an index: 5\n",
      "21dcBa34defg\n"
     ]
    }
   ],
   "source": [
    "#Todo\n",
    "word = str(input(\"Please enter a word: \"))\n",
    "num = int(input(\"Please enter an index: \"))\n",
    "\n",
    "first = word[:num+1]\n",
    "second = word[num+1:]\n",
    "rev = \"\"\n",
    "for r in range(1,len(first)+1):\n",
    "  \n",
    "  rev = rev + first[-r]\n",
    "\n",
    "print(rev + second)"
   ]
  },
  {
   "cell_type": "markdown",
   "metadata": {
    "id": "mwnPD6m-U1y9"
   },
   "source": [
    "## Part 2: List\n"
   ]
  },
  {
   "cell_type": "markdown",
   "metadata": {
    "id": "lPoDvm8YU1y9"
   },
   "source": [
    "### Task 10\n",
    "Write a Python program that reads 10 numbers from the user. After reading each number, print all the numbers that have been entered so far. \n",
    "\n",
    "**Example:**\\\n",
    "After the user enters 3, prints “So far in the list: [3]”\\\n",
    "After the user enters 5, prints “So far in the list: [3, 5]”\\\n",
    "After the user enters 34, prints “So far in the list: [3, 5, 34]”\\\n",
    ".... continues"
   ]
  },
  {
   "cell_type": "code",
   "execution_count": 6,
   "metadata": {
    "id": "z26BN9B3U1y_"
   },
   "outputs": [
    {
     "name": "stdout",
     "output_type": "stream",
     "text": [
      "Enter a number :3\n",
      "So far in the list : [3]\n",
      "Enter a number :4\n",
      "So far in the list : [3, 4]\n",
      "Enter a number :6\n",
      "So far in the list : [3, 4, 6]\n",
      "Enter a number :7\n",
      "So far in the list : [3, 4, 6, 7]\n",
      "Enter a number :8\n",
      "So far in the list : [3, 4, 6, 7, 8]\n",
      "Enter a number :9\n",
      "So far in the list : [3, 4, 6, 7, 8, 9]\n",
      "Enter a number :7\n",
      "So far in the list : [3, 4, 6, 7, 8, 9, 7]\n",
      "Enter a number :5\n",
      "So far in the list : [3, 4, 6, 7, 8, 9, 7, 5]\n",
      "Enter a number :3\n",
      "So far in the list : [3, 4, 6, 7, 8, 9, 7, 5, 3]\n",
      "Enter a number :2\n",
      "So far in the list : [3, 4, 6, 7, 8, 9, 7, 5, 3, 2]\n"
     ]
    }
   ],
   "source": [
    "#Todo\n",
    "a = []\n",
    "for i in range(10):\n",
    "    n = int(input(\"Enter a number :\"))\n",
    "    a.append(n)\n",
    "    print(\"So far in the list :\",a)"
   ]
  },
  {
   "cell_type": "markdown",
   "metadata": {
    "id": "ZrjtT-I_U1zD"
   },
   "source": [
    "#### Task 11\n",
    "Assume, you have been given a list.\n",
    "\n",
    "a_list =  [10, 20, 24, 25, 26, 35, 70]\n",
    "\n",
    "Write a Python program that creates a new list excluding the first and last two elements of the given list and prints the new list. \n",
    "\n",
    "**Output:** [24, 25, 26]\n",
    "\n",
    "==========================================\n",
    "\n",
    "**Hint:**You need to use list slicing.\n"
   ]
  },
  {
   "cell_type": "code",
   "execution_count": 17,
   "metadata": {
    "id": "3r7Ripj7U1zE"
   },
   "outputs": [
    {
     "name": "stdout",
     "output_type": "stream",
     "text": [
      "[24, 25, 26]\n"
     ]
    }
   ],
   "source": [
    "#Todo\n",
    "a_list = [10, 20, 24, 25, 26, 35, 70]\n",
    "print(a_list[2:5])"
   ]
  },
  {
   "cell_type": "markdown",
   "metadata": {
    "id": "AWgZaBZCzmaM"
   },
   "source": [
    "### Task 12\n",
    "\n",
    "Write a python program that reads 5 numbers from the user, and then prints them in the reverse order.\n",
    "\n",
    "==========================================\n",
    "\n",
    "*Hint:You need to create a list to store the input numbers. Then use loop to print them in reverse order*\n",
    "\n",
    "\n",
    "==========================================\n",
    "\n",
    "**Sample Input**\n",
    "5, -5, 100, 1, 0\n",
    "\n",
    "**Sample Output**\\\n",
    "0\\\n",
    "1\\\n",
    "100\\\n",
    "-5\\\n",
    "5"
   ]
  },
  {
   "cell_type": "code",
   "execution_count": 2,
   "metadata": {
    "id": "ICW-03YOznTp"
   },
   "outputs": [
    {
     "name": "stdout",
     "output_type": "stream",
     "text": [
      "Enter a number :5\n",
      "Enter a number :-5\n",
      "Enter a number :100\n",
      "Enter a number :1\n",
      "Enter a number :0\n",
      "0\n",
      "1\n",
      "100\n",
      "-5\n",
      "5\n"
     ]
    }
   ],
   "source": [
    "#todo\n",
    "a = []\n",
    "for i in range(5):\n",
    "    n = int(input(\"Enter a number :\"))\n",
    "    a.append(n)\n",
    "a.reverse()\n",
    "for j in a:\n",
    "    print(j)"
   ]
  },
  {
   "cell_type": "markdown",
   "metadata": {
    "id": "7a_1pYjfU1zI"
   },
   "source": [
    "### Task 13\n",
    "Assume, you have been given two lists. \n",
    "\n",
    "list_one = [1, 2, 3, 4, 5, 6, 7, 8, 9]\\\n",
    "list_two = [10, 11, 12, -13, -14, -15, -16]\n",
    "\n",
    "Write a Python program that creates a new list with all the **even elements** of both of the given lists and prints the new list.\n",
    "\n",
    "\n",
    "**Output:** [2, 4, 6, 8, 10, 12, -14, -16]\n",
    "\n",
    "==========================================\n",
    "\n",
    "**Hint:** You need to create a third list to store the even elements of the given lists.\n",
    "\n"
   ]
  },
  {
   "cell_type": "code",
   "execution_count": 1,
   "metadata": {
    "id": "vToa7yazU1zI"
   },
   "outputs": [
    {
     "name": "stdout",
     "output_type": "stream",
     "text": [
      "[1, 2, 3, 4, 5, 6, 7, 8, 9, 10, 11, 12, -13, -14, -15, -16]\n",
      "[2, 4, 6, 8, 10, 12, -14, -16]\n"
     ]
    }
   ],
   "source": [
    "#Todo\n",
    "list_one = [1, 2, 3, 4, 5, 6, 7, 8, 9]\n",
    "list_two = [10, 11, 12, -13, -14, -15, -16]\n",
    "a = list_one + list_two\n",
    "print(a)\n",
    "print(a[1::2])"
   ]
  },
  {
   "cell_type": "markdown",
   "metadata": {
    "id": "QaD4hLn92EKT"
   },
   "source": [
    "### Task 14\n",
    "\n",
    "Write a Python program to print the elements in a given list **without the duplicates**.\n",
    "\n",
    "===================================================================\n",
    "\n",
    "*Hint:You need to create a third list to store the results. Use membership operators (in, not in) to make sure no duplicates are added.*\n",
    "\n",
    "===================================================================\n",
    "\n",
    "**Sample Input**<br/>\n",
    "0, 0, 1, 2, 3, 4, 4, 5, 6, 6, 6, 7, 8, 9, 4, 4<br/>\n",
    "\n",
    "\n",
    "**Sample Output**<br/>\n",
    "[0, 1, 2, 3, 4, 5, 6, 7, 8, 9]<br/>\n",
    "\n",
    "===================================================================\n",
    "\n",
    "**Sample Input**<br/>\n",
    "7, 7, 7, 1, 0, 3, 3, 55, 9<br/>\n",
    "\n",
    "\n",
    "**Sample Output**<br/>\n",
    "[7, 1, 0, 3, 55, 9]<br/>\n",
    "\n"
   ]
  },
  {
   "cell_type": "code",
   "execution_count": 11,
   "metadata": {
    "id": "EUbQbz5hU1zP"
   },
   "outputs": [
    {
     "name": "stdout",
     "output_type": "stream",
     "text": [
      "Enter a list of numbers: 2,5,67,2,1,7,83,26,15,61,1,1,1,5,3,5,1,2,6,1,5,6\n",
      "[2, 5, 67, 1, 7, 83, 26, 15, 61, 3, 6]\n"
     ]
    }
   ],
   "source": [
    "#Todo\n",
    "arr = input(\"Enter a list of numbers: \")\n",
    "arr = arr.split(\",\")\n",
    "list  =  []\n",
    "for r in arr:\n",
    "  if r == \"[\" or r ==\"]\" or r ==\",\" or r==\" \":\n",
    "    continue\n",
    "  elif int(r) not in list:\n",
    "    list.append(int(r))\n",
    "print(list)"
   ]
  },
  {
   "cell_type": "markdown",
   "metadata": {
    "id": "wfcSytFVU1zU"
   },
   "source": [
    "### Task 15\n",
    "\n",
    "Write a Python program that reads 5 numbers into a list and prints the largest number and its location on the list. <font color='red'>[You are not allowed to use the max(), sort(), sorted() function here]</font>\n",
    "\n",
    "==========================================\n",
    "\n",
    "**Hint:**\\\n",
    " Assume, the first input to be the largest value initially and the location of first input which is 0 to be the initial value of the largest value’s location.\n",
    "You need to be careful while printing the output. Depending on your code might need data conversion.\n",
    "\n",
    "==========================================\n",
    "\n",
    "\n",
    "**Example:**\\\n",
    "**Input:**\\\n",
    " 7, 13, 2, 10, 6\n",
    "\n",
    "**Output:**\\\n",
    "list: [7, 13, 2, 10, 6]\\\n",
    "Largest number 13 was found at location 1.\n",
    "\n",
    "\n"
   ]
  },
  {
   "cell_type": "code",
   "execution_count": 18,
   "metadata": {
    "id": "kXbEh1t3U1zV"
   },
   "outputs": [
    {
     "name": "stdout",
     "output_type": "stream",
     "text": [
      "Enter the Number: 7\n",
      "Enter the Number: 13\n",
      "Enter the Number: 2\n",
      "Enter the Number: 10\n",
      "Enter the Number: 6\n",
      "list:  [7, 13, 2, 10, 6]\n",
      "Lagest number  13 was found at location  1\n"
     ]
    }
   ],
   "source": [
    "# Todo\n",
    "a = []\n",
    "num = int(input(\"Enter the Number: \"))\n",
    "max = num\n",
    "sum = num\n",
    "i = 2\n",
    "a.append(num)\n",
    "while i < 6:\n",
    "    num = int(input(\"Enter the Number: \"))\n",
    "    sum += num\n",
    "    if num > max:\n",
    "        max = num\n",
    "    i += 1\n",
    "    a.append(num)\n",
    "q = a.index(max)\n",
    "\n",
    "print('list: ', a)\n",
    "print('Lagest number ', max, 'was found at location ', q)"
   ]
  },
  {
   "cell_type": "markdown",
   "metadata": {
    "id": "WZXnxHTdGrMC"
   },
   "source": [
    "## Optional Tasks (16-20) [Ungraded]"
   ]
  },
  {
   "cell_type": "markdown",
   "metadata": {
    "id": "lvSiLaobU1zY"
   },
   "source": [
    "### Task 16\n",
    "\n",
    "Write a Python program that reads 5 numbers into a list and prints the smallest and largest number and their location in the list. <font color='red'>[You are not allowed to use the max(), min(), sort(), sorted() functions here]</font>\n",
    "\n",
    "==========================================\n",
    "\n",
    "**Hint:**\\\n",
    " Assume, the first input to be the largest value and the location of the first input which is 0 to be the initial value of the largest value’s location. Similarly, assume the first input to be the smallest value and the location of the first input which is 0 to be the initial value of the smallest value’s location.\n",
    "You need to be careful while printing the output. Depending on your code might need data conversion.\n",
    "\n",
    "==========================================\n",
    "\n",
    "**Example:**\n",
    "\n",
    "**Input:**\\\n",
    "7, 13, -5, 10, 6\n",
    "\n",
    "**Output:**\\\n",
    "List: [7, 13, -5, 10, 6]\\\n",
    "Smallest number -5 was found at location 2\\\n",
    "Largest number 13 was found at location 1\n",
    "\n",
    "\n"
   ]
  },
  {
   "cell_type": "code",
   "execution_count": null,
   "metadata": {
    "id": "yiS5TWSDU1zY"
   },
   "outputs": [],
   "source": [
    "#Todo"
   ]
  },
  {
   "cell_type": "markdown",
   "metadata": {
    "id": "nwRZ3_0tC3fq"
   },
   "source": [
    "### Task17\n",
    "\n",
    "\n",
    "Write a python program that takes a string as an input from the user. Then modifies the string in such a way that the string always starts with an uppercase letter and the case of each subsequent letter is the opposite of the previous letter.  Then finally prints back the the modified string to the user.\n",
    "\n",
    "\n",
    "==========================================\n",
    "\n",
    "**Sample Input**\\\n",
    "Python programming is very easy\n",
    "\n",
    "**Sample Output**\\\n",
    "PyThOn PrOgRaMmInG iS vErY eAsY\n",
    "\n",
    "==========================================\n",
    "\n",
    "**Sample Input**\\\n",
    "I&nbsp;&nbsp;&nbsp;&nbsp;&nbsp;&nbsp;     love       &nbsp;&nbsp;&nbsp;&nbsp;&nbsp;&nbsp;&nbsp; Python &nbsp;&nbsp;&nbsp;&nbsp;&nbsp;&nbsp;&nbsp;&nbsp;Programming\n",
    "\n",
    "**Sample Output**\\\n",
    "I&nbsp;&nbsp;&nbsp;&nbsp;&nbsp;&nbsp;     lOvE       &nbsp;&nbsp;&nbsp;&nbsp;&nbsp;&nbsp;&nbsp;pYtHoN&nbsp;&nbsp;&nbsp;&nbsp;&nbsp;&nbsp;&nbsp;&nbsp;pRoGrAmMiNg\n",
    "\n",
    "==========================================\n",
    "\n",
    "**Sample Input**\\\n",
    "CSE110 Course\n",
    "\n",
    "**Sample Output**\\\n",
    "CsE110 cOuRsE\n",
    "\n",
    "\n",
    "\n",
    "==========================================\n",
    "\n",
    "**Sample Input**\\\n",
    "c\n",
    "\n",
    "**Sample Output**\\\n",
    "C\n",
    "\n",
    "\n"
   ]
  },
  {
   "cell_type": "code",
   "execution_count": null,
   "metadata": {
    "id": "LEnaTlyoMJdS"
   },
   "outputs": [],
   "source": [
    "#todo"
   ]
  },
  {
   "cell_type": "markdown",
   "metadata": {
    "id": "EEkcqbIJBKel"
   },
   "source": [
    "### Task 18 \n",
    "An anagram is a play on words created by rearranging the letters of the original word to make a new word or phrase.\n",
    "So we can say two words are anagrams if they contain all of the same letters, but in a different order.\n",
    "\n",
    "\n",
    "Write a python program that takes two strings from the user and tells if they are anagram or not.\n",
    "\n",
    "===============================\n",
    "\n",
    "<b>Input 1 </b><br/>\n",
    "dusty<br/>\n",
    "study<br/>\n",
    "<b> Output 1 </b> <br/>\n",
    "They are anagram<br/>\n",
    "\n",
    "===============================\n",
    "\n",
    "<b> Input 2 </b><br/>\n",
    "dustyyy<br/>\n",
    "study<br/>\n",
    "<b> Output 2 </b><br/>\n",
    "They are not anagram"
   ]
  },
  {
   "cell_type": "code",
   "execution_count": null,
   "metadata": {
    "id": "dvjY9pE2BLVT"
   },
   "outputs": [],
   "source": [
    "# to do"
   ]
  },
  {
   "cell_type": "markdown",
   "metadata": {
    "id": "rguDZ8SBCHD8"
   },
   "source": [
    "### Task 19\n",
    "Write a Python program that takes two lists as an input from the user. Then print a new list with the **common elements** of both the input lists. \n",
    "\n",
    "=======================================\n",
    "\n",
    "*Hint:You need to create a third list to store the results. Use membership operators (in, not in) to make sure similar elements are added.*\n",
    "\n",
    "=======================================\n",
    "\n",
    "**Sample Input**<br/>\n",
    "A, B, C , D\n",
    "\n",
    "\n",
    "C, E , F, B\n",
    "\n",
    "\n",
    "**Sample Output**<br/>\n",
    "['C', 'B']\n",
    "\n",
    "=======================================\n",
    "\n",
    "**Sample Input**<br/>\n",
    "1, 3, A, H, P\n",
    "\n",
    "\n",
    "A, G, 1, P, O\n",
    "\n",
    "\n",
    "**Sample Output**<br/>\n",
    "['1', 'A', 'P']\n",
    "\n",
    "\n"
   ]
  },
  {
   "cell_type": "code",
   "execution_count": null,
   "metadata": {
    "id": "3iueGiPPGG66"
   },
   "outputs": [],
   "source": [
    "# to do"
   ]
  },
  {
   "cell_type": "markdown",
   "metadata": {
    "id": "tjcE5oitCM2s"
   },
   "source": [
    "### Task 20\n",
    "\n",
    "Assume, you have been given two lists.\n",
    "\n",
    "[Your program should work for any two given lists]\n",
    "\n",
    "list_one = [1, 2 , 3, 2, 4, 5, 5, 7, 99, 200, 303, 70]\\\n",
    "list_two = [1, 1, 2, 3, 3, 3, 4, 5, 200, 500, -5]\n",
    "\n",
    "Write a Python program that creates a new list with all the **unique elements** of both the given lists. \n",
    "<font color='red'> **You need to make sure that no duplicates are in the result list**</font> and then finally print the result list.\n",
    "\n",
    "**Output**: \n",
    "[1, 2, 4, 5, 7, 99, 200, 303, 70, 3, 500, -5]\n",
    "\n",
    "**Hint:**You need to create a third list to store the results. Use membership operators (in, not in) to make sure no duplicates are added.\n",
    "\n"
   ]
  },
  {
   "cell_type": "code",
   "execution_count": null,
   "metadata": {
    "id": "b2TwkUqnGZU-"
   },
   "outputs": [],
   "source": []
  }
 ],
 "metadata": {
  "colab": {
   "collapsed_sections": [],
   "name": "CSE110 Assignment03 (String-List).ipynb",
   "provenance": []
  },
  "kernelspec": {
   "display_name": "Python 3",
   "language": "python",
   "name": "python3"
  },
  "language_info": {
   "codemirror_mode": {
    "name": "ipython",
    "version": 3
   },
   "file_extension": ".py",
   "mimetype": "text/x-python",
   "name": "python",
   "nbconvert_exporter": "python",
   "pygments_lexer": "ipython3",
   "version": "3.8.3"
  }
 },
 "nbformat": 4,
 "nbformat_minor": 1
}
