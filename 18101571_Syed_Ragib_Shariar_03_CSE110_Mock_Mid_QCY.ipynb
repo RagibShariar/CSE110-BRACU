{
 "cells": [
  {
   "cell_type": "markdown",
   "metadata": {
    "id": "0ZcT5c9CjT8P"
   },
   "source": [
    "# FALL 2020\n",
    "\n",
    "# CSE110 MOCK MID\n",
    "**<font color='red'>[MUST MAINTAIN VARIABLE NAMING CONVENTIONS FOR ALL THE TASKS]</font>**\n",
    "\n",
    "**<font color='red'>[Writing comments(explanatory sentences) in any of the code is completely optional]</font>**"
   ]
  },
  {
   "cell_type": "markdown",
   "metadata": {
    "id": "hQCnOmw6iWER"
   },
   "source": [
    "# Task 01\n",
    "Suppose you have built a machine that takes the speed of a car and prints messages accordingly.\n",
    "\n",
    "\n",
    "\n",
    "|speed [m/s]|message|\n",
    "|------|------|\n",
    "|0 - 20  |slow\n",
    "|21-40  |moderate\n",
    "|>40|fast\n",
    "\n",
    "\n",
    "\n",
    "Write a python program and takes the speed of the car and print message accordingly.\n",
    "\n",
    " ================================\n",
    "\n",
    "**Sample input 1:**\\\n",
    "10  \n",
    "\n",
    "\n",
    "**Sample output 1:**\\\n",
    "slow\n",
    "\n",
    "\n",
    "\n",
    "\n",
    "\n",
    "================================\n",
    "\n",
    "**Sample input 2:**\\\n",
    "65\n",
    "\n",
    "\n",
    "**Sample output 2:**\\\n",
    "fast\n",
    "\n",
    "\n"
   ]
  },
  {
   "cell_type": "code",
   "execution_count": 13,
   "metadata": {
    "id": "P0vIwmbeiWEU"
   },
   "outputs": [
    {
     "name": "stdout",
     "output_type": "stream",
     "text": [
      "enter :21\n",
      "moderate\n"
     ]
    }
   ],
   "source": [
    "#task 1\n",
    "#to do\n",
    "n = int(input(\"enter :\"))\n",
    "if n>=0 and n<=20:\n",
    "    print(\"slow\")\n",
    "elif n>=21 and n<=40:\n",
    "    print('moderate')\n",
    "elif n>40:\n",
    "    print(\"fast\")\n",
    "else:\n",
    "    print(\"invalid\")"
   ]
  },
  {
   "cell_type": "markdown",
   "metadata": {
    "id": "zUyYKkWViWEd"
   },
   "source": [
    "# Task 02\n",
    "Write a python program that will take 5 numbers from the user using loop and then print their summation\n",
    "\n",
    " ================================\n",
    "\n",
    "**Sample input 1:**\\\n",
    "1\\\n",
    "10\\\n",
    "12\\\n",
    "3\\\n",
    "2\\\n",
    "**Sample output 1:**\\\n",
    "28\\\n",
    " *Explaination: 1+10+12+3+2 = 28*\n",
    "\n",
    "  ================================\n",
    "\n",
    "**Sample input 2:**\\\n",
    "2 \\\n",
    "3\\\n",
    "4\\\n",
    "22\\\n",
    "6\\\n",
    "**Sample output 2:**\\\n",
    "37\\\n",
    "*Explaination: 2+3+4+22+6 = 37*\n",
    "\n"
   ]
  },
  {
   "cell_type": "code",
   "execution_count": null,
   "metadata": {
    "id": "n3jqw4m0m_5K"
   },
   "outputs": [],
   "source": []
  },
  {
   "cell_type": "code",
   "execution_count": 2,
   "metadata": {
    "id": "_oEJ6XwgiWEh"
   },
   "outputs": [
    {
     "name": "stdout",
     "output_type": "stream",
     "text": [
      "enter:1\n",
      "enter:2\n",
      "enter:3\n",
      "enter:34\n",
      "enter:5\n",
      "45\n"
     ]
    }
   ],
   "source": [
    "#task 2\n",
    "#to do\n",
    "n=1\n",
    "sum=0\n",
    "while n<=5:\n",
    "    num= int(input(('enter:')))\n",
    "    sum= sum+num\n",
    "    n= n+1\n",
    "    num=num+1\n",
    "print(sum)    \n",
    "    "
   ]
  },
  {
   "cell_type": "markdown",
   "metadata": {
    "id": "CEhXrQIhiWEo"
   },
   "source": [
    "# Task 03\n",
    "Write a program that takes a string as input from the user. Your task is to then print the string in reverse order.\n",
    "\\\n",
    "**<font color='red'>( You cannot use any built in method or slicing here.)**\n",
    "\n",
    "\n",
    "\n",
    " \n",
    "  ================================\n",
    "\n",
    " For example: If your name is Charolette, it starts with a ‘C’, \\\n",
    "**Sample input 1:**\\\n",
    "china\n",
    "\n",
    "**Sample output 1:**\\\n",
    "anich\n",
    "\n",
    "\n",
    "  ================================\n",
    "  \n",
    "**Sample input 2:**\\\n",
    "craft\n",
    "\n",
    "**Sample output 2:**\\\n",
    "tfarc\n"
   ]
  },
  {
   "cell_type": "code",
   "execution_count": 19,
   "metadata": {
    "id": "gWQIR06LiWEp"
   },
   "outputs": [
    {
     "name": "stdout",
     "output_type": "stream",
     "text": [
      "enter a string :china\n",
      "anihc\n"
     ]
    }
   ],
   "source": [
    "#task 3\n",
    "#to do\n",
    "str = input(\"enter a string :\")\n",
    "str1 = \"\"\n",
    "for i in str:\n",
    "    str1 = i+str1\n",
    "print(str1)\n"
   ]
  },
  {
   "cell_type": "code",
   "execution_count": null,
   "metadata": {},
   "outputs": [],
   "source": []
  }
 ],
 "metadata": {
  "colab": {
   "collapsed_sections": [],
   "name": "CSE110 mock mid [Fall2020].ipynb",
   "provenance": []
  },
  "kernelspec": {
   "display_name": "Python 3",
   "language": "python",
   "name": "python3"
  },
  "language_info": {
   "codemirror_mode": {
    "name": "ipython",
    "version": 3
   },
   "file_extension": ".py",
   "mimetype": "text/x-python",
   "name": "python",
   "nbconvert_exporter": "python",
   "pygments_lexer": "ipython3",
   "version": "3.8.3"
  }
 },
 "nbformat": 4,
 "nbformat_minor": 1
}
