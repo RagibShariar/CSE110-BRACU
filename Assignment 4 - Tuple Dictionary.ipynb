{
 "cells": [
  {
   "cell_type": "markdown",
   "metadata": {
    "id": "U4PRkuyUtDRw"
   },
   "source": [
    "# CSE110 Assignment 4\n",
    "\n",
    "\n",
    "## Write the Python code of the following problems:\n",
    "**<font color='red'>[MUST MAINTAIN VARIABLE NAMING CONVENTIONS FOR ALL THE TASKS]</font>**\n"
   ]
  },
  {
   "cell_type": "markdown",
   "metadata": {
    "id": "PD425BrvtDRy"
   },
   "source": [
    "## Part 1: Tuple"
   ]
  },
  {
   "cell_type": "markdown",
   "metadata": {
    "id": "FNOorLYXtDRz"
   },
   "source": [
    "### Task 1\n",
    "\n",
    "Assume, you have been given a tuple.\n",
    "\n",
    "a_tuple = (\"The Institute\",\\\n",
    "        (\"Best Mystery & Thriller\", \"The Silent Patient\", 68821),\\\n",
    "        75717,\\\n",
    "        [1, 2, 3, 400, 5, 6, 7],\\\n",
    "        (\"Best Fiction\", \"The Testaments\", 98291)\\\n",
    ")\n",
    "\n",
    "Write **one line** of Python code to access and print the value 400.\n",
    "\n",
    "Output: 400\n",
    "\n"
   ]
  },
  {
   "cell_type": "code",
   "execution_count": 1,
   "metadata": {
    "id": "NDKB1cIMtDR0"
   },
   "outputs": [
    {
     "name": "stdout",
     "output_type": "stream",
     "text": [
      "400\n"
     ]
    }
   ],
   "source": [
    "#TODO\n",
    "a_tuple = (\"The Institute\",(\"Best Mystery & Thriller\", \"The Silent Patient\", 68821),75717,[1, 2, 3, 400, 5, 6, 7],\n",
    "(\"Best Fiction\", \"The Testaments\", 98291))\n",
    "print(a_tuple[-2][-4])"
   ]
  },
  {
   "cell_type": "markdown",
   "metadata": {
    "id": "BXlIw1svtDR-"
   },
   "source": [
    "### Task 2\n",
    "\n",
    "Assume, you have been given a tuple. Write a Python program that creates a **new tuple** excluding the first and last two elements of the given tuple and prints the new tuple. \n",
    "\n",
    "================================================================\n",
    "\n",
    "**Hint:** You need to use tuple slicing.\n",
    "\n",
    "================================================================\n",
    "\n",
    "**Input 1:**\\\n",
    "(10, 20, 24, 25, 26, 35, 70)\\\n",
    "**Output 1:**\\\n",
    "(24, 25, 26)\n",
    "\n",
    "================================================================\n",
    "\n",
    "**Input 2:**\\\n",
    "(-10, 20, 30, 40)\\\n",
    "**Output 2:**\\\n",
    "()\n",
    "\n",
    "================================================================\n",
    "\n",
    "**Input 3:**\\\n",
    "(-10, 20, 25, 30, 40)\\\n",
    "**Output 3:**\\\n",
    "(25,)\n",
    "\n",
    "\n"
   ]
  },
  {
   "cell_type": "code",
   "execution_count": 7,
   "metadata": {
    "id": "FTJ-5AmNtDR_"
   },
   "outputs": [
    {
     "name": "stdout",
     "output_type": "stream",
     "text": [
      "(25,)\n"
     ]
    }
   ],
   "source": [
    "\n",
    "#Todo\n",
    "tupl = (-10, 20, 25, 30, 40)\n",
    "\n",
    "newTuple = tupl[2:len(tupl)-2] \n",
    "print(newTuple)\n"
   ]
  },
  {
   "cell_type": "markdown",
   "metadata": {
    "id": "Z3GS2TE6tDSG"
   },
   "source": [
    "### Task 3\n",
    "\n",
    "Assume, you have been given a tuple. \n",
    "\n",
    "\n",
    "book_info = (\\\n",
    "    (\"Best Mystery & Thriller\",\"The Silent Patient\",68,821),\\\n",
    "    (\"Best Horror\",\"The Institute\",75,717),\\\n",
    "    (\"Best History & Biography\",\"The five\",31,783 ),\\\n",
    "    (\"Best Fiction\",\"The Testaments\",98,291)\\\n",
    ")\n",
    "\n",
    "Write a Python program that prints its size and all its elements.\n",
    "\n",
    "===============================================================\n",
    "\n",
    "**Output:**\\\n",
    "Size of the tuple is: 4\\\n",
    "('Best Mystery & Thriller', 'The Silent Patient', 68, 821)\\\n",
    "('Best Horror', 'The Institute', 75, 717)\\\n",
    "('Best History & Biography', 'The five', 31, 783)\\\n",
    "('Best Fiction', 'The Testaments', 98, 291)\n"
   ]
  },
  {
   "cell_type": "code",
   "execution_count": 18,
   "metadata": {
    "id": "RPFYcAjntDSG"
   },
   "outputs": [
    {
     "name": "stdout",
     "output_type": "stream",
     "text": [
      "Size of the tuple is: 4\n",
      "('Best Mystery & Thriller', 'The Silent Patient', 68, 821)\n",
      "('Best Horror', 'The Institute', 75, 717)\n",
      "('Best History & Biography', 'The five', 31, 783)\n",
      "('Best Fiction', 'The Testaments', 98, 291)\n"
     ]
    }
   ],
   "source": [
    "#Todo\n",
    "book_info = (\n",
    "(\"Best Mystery & Thriller\",\"The Silent Patient\",68,821),\n",
    "(\"Best Horror\",\"The Institute\",75,717),\n",
    "(\"Best History & Biography\",\"The five\",31,783 ),\n",
    "(\"Best Fiction\",\"The Testaments\",98,291)\n",
    ")\n",
    "print(\"Size of the tuple is:\",len(book_info))\n",
    "for i in book_info:\n",
    "    print(i)"
   ]
  },
  {
   "cell_type": "markdown",
   "metadata": {
    "id": "glKgAPlGtDSK"
   },
   "source": [
    "### Task 4\n",
    "\n",
    "Assume, you have been given a tuple. \n",
    "\n",
    "book_info = (\\\n",
    "    (\"Best Mystery & Thriller\",\"The Silent Patient\",68821),\\\n",
    "    (\"Best Horror\",\"The Institute\",75717),\\\n",
    "    (\"Best History & Biography\",\"The five\",31783 ),\\\n",
    "    (\"Best Fiction\",\"The Testaments\",98291)\\\n",
    ")\n",
    "\n",
    "Write a Python program that prints the information about the Good Reads Choice Awards from a tuple. Your program should print the award category, the book name, and its total votes needed for the win.\n",
    "\n",
    "===============================================================\n",
    "\n",
    "**Hint:** You need to handle the quotation marks as a part of the output.\n",
    "**<font color='red'>[Must use Tuple unpacking for printing.]</font>**\n",
    "\n",
    "\n",
    "===============================================================\n",
    "\n",
    "**Output:**\\\n",
    "The Silent Patient won the 'Best Mystery & Thriller' category with 68821 votes\\\n",
    "The Institute won the 'Best Horror' category with 75717 votes\\\n",
    "The five won the 'Best History & Biography' category with 31783 votes\\\n",
    "The Testaments won the 'Best Fiction' category with 98291 votes\n",
    "\n",
    "\n",
    "\n"
   ]
  },
  {
   "cell_type": "code",
   "execution_count": 28,
   "metadata": {
    "id": "LgTKpSGatDSM"
   },
   "outputs": [
    {
     "name": "stdout",
     "output_type": "stream",
     "text": [
      "The Silent Patient won the ' Best Mystery & Thriller ' category with 68821 votes\n",
      "The Institute won the ' Best Horror ' category with 75717 votes\n",
      "The five won the ' Best History & Biography ' category with 31783 votes\n",
      "The Testaments won the ' Best Fiction ' category with 98291 votes\n"
     ]
    }
   ],
   "source": [
    "#Todo\n",
    "book_info = (\n",
    "(\"Best Mystery & Thriller\",\"The Silent Patient\",68821),\n",
    "(\"Best Horror\",\"The Institute\",75717),\n",
    "(\"Best History & Biography\",\"The five\",31783 ),\n",
    "(\"Best Fiction\",\"The Testaments\",98291)\n",
    ")\n",
    "\n",
    "a,b,c,d = book_info\n",
    "a1,a2,a3 =a\n",
    "b1,b2,b3 =b\n",
    "c1,c2,c3 =c\n",
    "d1,d2,d3 =d\n",
    "print(a2,\"won the '\",a1,\"' category with\",a3,\"votes\")\n",
    "print(b2,\"won the '\",b1,\"' category with\",b3,\"votes\")\n",
    "print(c2,\"won the '\",c1,\"' category with\",c3,\"votes\")\n",
    "print(d2,\"won the '\",d1,\"' category with\",d3,\"votes\")"
   ]
  },
  {
   "cell_type": "markdown",
   "metadata": {
    "id": "bRe9K_j55zpb"
   },
   "source": [
    "### Task 5\n",
    "Write a python program that takes an input from the user and finds the number of times that input is present in the tuple.\n",
    "[Assume the tuple is give, no need to take it as a input]\n",
    "===============================\n",
    "\n",
    "<b>Example 1 </b><br/>\n",
    "(10, 8, 5, 2, 10, 15, 10, 8, 5, 8, 8, 2) <br/>\n",
    "8<br/>\n",
    "<b> Output 1 </b> <br/>\n",
    "8 appears 4 times in the tuple<br/>\n",
    "\n",
    "=============================================\n",
    "\n",
    "<b> Example 2 </b><br/>\n",
    "(10, 8, 5, 2, 10, 15, 10, 8, 5, 8, 8, 2)<br/>\n",
    "1<br/>\n",
    "<b> Output 2 </b><br/>\n",
    "1 appears 0 times in the tuple"
   ]
  },
  {
   "cell_type": "code",
   "execution_count": 31,
   "metadata": {
    "id": "mC-B1fpStDST"
   },
   "outputs": [
    {
     "name": "stdout",
     "output_type": "stream",
     "text": [
      "Enter a number :8\n",
      "8 appears 4 times in the tuple\n"
     ]
    }
   ],
   "source": [
    "#Todo\n",
    "tupl = (10, 8, 5, 2, 10, 15, 10, 8, 5, 8, 8, 2)\n",
    "num = int(input(\"Enter a number :\"))\n",
    "sum =0\n",
    "for i in tupl:\n",
    "    if i == num:\n",
    "        sum = sum+1\n",
    "print(num , \"appears\", sum , \"times in the tuple\")        \n"
   ]
  },
  {
   "cell_type": "markdown",
   "metadata": {
    "id": "QWNi_JWr6AfC"
   },
   "source": [
    "### Task 6\n",
    "Write a Python program to reverse a tuple.\n",
    "\n",
    "===============================================================\n",
    "\n",
    "<b> Hint: </b>  Unlike lists, tuples are immutable. So, in order to reverse a tuple, first we need to convert it into list, modify the list, then convert it back to tuple. \n",
    "\n",
    "===============================\n",
    "\n",
    "<b>Input 1 </b><br/>\n",
    "('a','b','c','d','e','f','g','h') <br/>\n",
    "<b> Output 1 </b> <br/>\n",
    "('h', 'g', 'f', 'e', 'd', 'c', 'b', 'a')<br/>\n",
    "\n",
    "================================\n",
    "\n",
    "<b> Input 2 </b><br/>\n",
    "(10,20,30,40,50,60)<br/>\n",
    "<b> Output 2 </b><br/>\n",
    "(60, 50, 40, 30, 20, 10)\n",
    "\n"
   ]
  },
  {
   "cell_type": "code",
   "execution_count": 40,
   "metadata": {
    "id": "CJrUcYAN6Bkx"
   },
   "outputs": [
    {
     "name": "stdout",
     "output_type": "stream",
     "text": [
      "(60, 50, 40, 30, 20, 10)\n"
     ]
    }
   ],
   "source": [
    "#todo\n",
    "tupl = (10,20,30,40,50,60)\n",
    "rtupl = tuple(reversed(tupl))\n",
    "print(rtupl)"
   ]
  },
  {
   "cell_type": "markdown",
   "metadata": {
    "id": "km0QurTJtDSX"
   },
   "source": [
    "## Part 2: Dictionary"
   ]
  },
  {
   "cell_type": "markdown",
   "metadata": {
    "id": "kvV-HnCntDSc"
   },
   "source": [
    "### Task 07\n",
    "Suppose you are given the following two dictionaries.\\\n",
    "Now create a new dictionary marks merging the two of the above dictionaries, **so that the original two dictionaries remain unchanged.**\n",
    "\n",
    "========================================\n",
    "\n",
    "**Hint:** You can use dictionary functions.\n",
    "\n",
    "========================================\n",
    "\n",
    "**Input:**\\\n",
    "{'Harry':15, 'Draco':8, 'Nevil':19}\\\n",
    "{'Ginie':18, 'Luna': 14}\n",
    "\n",
    "**Output:**\\\n",
    "{'Harry': 15, 'Draco': 8, 'Nevil': 19, 'Ginie': 18, 'Luna': 14}\n",
    "\n",
    "\n",
    "========================================\n",
    "\n",
    "**Input:**\\\n",
    "{'A':90, 'B': 0}\\\n",
    "{'C':50}\n",
    "\n",
    "**Output:**\\\n",
    "{'A': 90, 'B': 0, 'C': 50}\n",
    "\n",
    "\n"
   ]
  },
  {
   "cell_type": "code",
   "execution_count": 35,
   "metadata": {
    "id": "BGSyClBPtDSd"
   },
   "outputs": [
    {
     "name": "stdout",
     "output_type": "stream",
     "text": [
      "{'Harry': 15, 'Draco': 8, 'Nevil': 19, 'Ginie': 18, 'Luna': 14}\n"
     ]
    }
   ],
   "source": [
    "#todo\n",
    "dict1 ={'Harry':15, 'Draco':8, 'Nevil':19}\n",
    "dict2 = {'Ginie':18, 'Luna': 14}\n",
    "print({**dict1,**dict2})"
   ]
  },
  {
   "cell_type": "markdown",
   "metadata": {
    "id": "QRzP4HYStDSi"
   },
   "source": [
    "### Task 08\n",
    "Write a Python program that takes a dictionary as a input from the user, then prints the average of all the values in a dictionary.\n",
    "\n",
    " <font color='red'>[ You are not allowed to use len() and sum()]</font>\n",
    "\n",
    "========================================\n",
    "\n",
    "**Hint (1):** \n",
    "\n",
    "Approach(1): For taking dictionary as a input from the user, take the whole dictionary as a string using the input() function. Then use the split(), strip() functions and condition to get the keys and values from the string. Then make the dictionary using the data.\n",
    "\n",
    "Approach(2): If the 1st approach seems to difficult. Create a empty dictionary. Then just run a simple loop. For each iteration ask the user for a key and a value using the input() function and keep updating the dictionary with the key and value.\n",
    "\n",
    "\n",
    "**Hint (2):** You can use dictionary functions to get all the values of the dictionary, then run loop to calculate the sum and the total number of values in the dictionary.\n",
    "\n",
    "========================================\n",
    "\n",
    "**Input:**\\\n",
    "{'Jon': 100, 'Dan':200, 'Rob':300}\n",
    "\n",
    "**Output:**\\\n",
    "Average is 200\n",
    "\n",
    "========================================\n",
    "\n",
    "\n",
    "**Input:**\\\n",
    "{'Jon': 100, 'Dan':200, 'Rob':30}\n",
    "\n",
    "**Output:**\\\n",
    "Average is 110\n",
    "\n",
    "\n"
   ]
  },
  {
   "cell_type": "code",
   "execution_count": 66,
   "metadata": {
    "id": "VMRLnA53tDSk"
   },
   "outputs": [
    {
     "name": "stdout",
     "output_type": "stream",
     "text": [
      "Average is 200\n"
     ]
    }
   ],
   "source": [
    "#todo\n",
    "salary = {'Jon': 100, 'Dan':200, 'Rob':300}\n",
    "sum = 0\n",
    "counter = 0\n",
    "\n",
    "for item in salary.values():\n",
    "    sum=sum+item\n",
    "    counter+=1\n",
    "avg=sum/counter\n",
    "print(\"Average is\",int(avg))"
   ]
  },
  {
   "cell_type": "markdown",
   "metadata": {
    "id": "le7fZ8XC9j_x"
   },
   "source": [
    "### Task 09\n",
    "Suppose there is a dictionary named exam_marks.\\\n",
    "exam_marks = {'Cierra Vega': 175, 'Alden Cantrell': 200, 'Kierra Gentry': 165, 'Pierre Cox': 190}\n",
    "\n",
    "Now create a new dictionary which filters out all the values lower than the user input\n",
    "\n",
    "===============================\n",
    "\n",
    "**Input:**\\\n",
    "170\\\n",
    "**Output:**\\\n",
    "{'Cierra Vega': 175, 'Alden Cantrell': 200, 'Pierre Cox': 190}\n",
    "\n",
    "===============================\n",
    "\n",
    "**Input:**\\\n",
    "190\\\n",
    "**Output:**\\\n",
    "{'Alden Cantrell': 200, 'Pierre Cox': 190}"
   ]
  },
  {
   "cell_type": "code",
   "execution_count": 49,
   "metadata": {
    "id": "qJWoUsLN9lBY"
   },
   "outputs": [
    {
     "name": "stdout",
     "output_type": "stream",
     "text": [
      "Enter a number :170\n",
      "{'Cierra Vega': 175, 'Alden Cantrell': 200, 'Pierre Cox': 190}\n"
     ]
    }
   ],
   "source": [
    "#todo\n",
    "exam_marks = {'Cierra Vega': 175, 'Alden Cantrell': 200, 'Kierra Gentry': 165, 'Pierre Cox': 190}\n",
    "dic = {}\n",
    "num = int(input(\"Enter a number :\"))\n",
    "for i in exam_marks.keys():\n",
    "    if num <= exam_marks[i]:\n",
    "        dic[i] = exam_marks[i]\n",
    "print(dic)    "
   ]
  },
  {
   "cell_type": "markdown",
   "metadata": {
    "id": "IsqFQpqKtDSs"
   },
   "source": [
    "### Task 10\n",
    "Write a Python program that finds the largest value with its key from the following dictionary.\n",
    "\n",
    " <font color='red'>[without using max() function]</font> \n",
    "\n",
    "===============================================================\n",
    "\n",
    "**Hint:** Think of membership operators (in and not in). You can use dictionary functions to get the values.\n",
    "\n",
    "===============================================================\n",
    "\n",
    "**Input:**\\\n",
    " {'sci fi': 12, 'mystery': 15, 'horror': 8, 'mythology': 10, 'young_adult': 4, 'adventure':14}\n",
    "\n",
    "**Output:**\\\n",
    "The highest selling book genre is mystery and the number of books sold are 15\n",
    "\n",
    "===============================================================\n",
    "\n",
    "**Input:**\\\n",
    "{'sci fi': 5, 'mystery': 3, 'horror': 14,\n",
    "             'young_adult': 2, 'adventure':9}\n",
    "\n",
    "**Output:**\\\n",
    "The highest selling book genre is  horror  and the number of books sold are  14\n",
    "\n",
    "\n"
   ]
  },
  {
   "cell_type": "code",
   "execution_count": 62,
   "metadata": {
    "id": "v9Kosgs4tDSt"
   },
   "outputs": [
    {
     "name": "stdout",
     "output_type": "stream",
     "text": [
      "The highest selling book genre is mystery and the number of books sold are 15\n"
     ]
    }
   ],
   "source": [
    "#todo\n",
    "book_shop = {'sci fi': 12, 'mystery': 15, 'horror': 8, 'mythology': 10, 'young_adult': 4, 'adventure':14}\n",
    "mx=-1\n",
    "for i in book_shop.values():\n",
    "    if i>mx:\n",
    "        mx=i\n",
    "for k,v in book_shop.items():\n",
    "    if v==mx:\n",
    "        print('The highest selling book genre is',k,'and the number of books sold are',v)"
   ]
  },
  {
   "cell_type": "markdown",
   "metadata": {
    "id": "qozufw7itDSy"
   },
   "source": [
    "### Task 11\n",
    "Write a Python program that combines two dictionary **adding values for common keys**. \n",
    "\n",
    "===============================================================\n",
    "\n",
    "**Hint:** Think of membership operators (in and not in). You can use dictionary functions to get the values. Need to create a new dictionary to store the combined items.\n",
    "\n",
    "===============================================================\n",
    "\n",
    "**Input:**\\\n",
    "dict1 = {'a': 10, 'b':20, 'c':30}\\\n",
    "dict2 = {'a': 10, 'c':20, 'd':30, 'e':40}\n",
    "\n",
    "**Output:**\\\n",
    "{'a': 20, 'b': 20, 'c': 50, 'd': 30, 'e': 40}\n",
    "\n",
    "\n"
   ]
  },
  {
   "cell_type": "code",
   "execution_count": 61,
   "metadata": {
    "id": "S0EIYODZtDSz"
   },
   "outputs": [
    {
     "name": "stdout",
     "output_type": "stream",
     "text": [
      "{'a': 20, 'b': 20, 'c': 50, 'd': 30, 'e': 40}\n"
     ]
    }
   ],
   "source": [
    "#todo\n",
    "dict1 = {'a':10,'b':20,'c':30}\n",
    "dict2 = {'a':10,'c':20,'d':30,'e':40}\n",
    "dict3 = {}\n",
    "\n",
    "for k1 in dict1.keys():\n",
    "    dict3[k1]=0\n",
    "    \n",
    "for k2 in dict2.keys():\n",
    "    dict3[k2]=0\n",
    "    \n",
    "for k1,v1 in dict1.items():\n",
    "    dict3[k1]=dict3.get(k1)+v1\n",
    "    \n",
    "for k2,v2 in dict2.items():\n",
    "    dict3[k2]=dict3.get(k2)+v2\n",
    "    \n",
    "print(dict3)"
   ]
  },
  {
   "cell_type": "markdown",
   "metadata": {
    "id": "d0a82nIt9ufj"
   },
   "source": [
    "### Task 12\n",
    "Write a Python program which prints the frequency of the numbers that were given as input by the user. Stop taking input when you find the string \"STOP\".\n",
    "\n",
    "===============================\n",
    "\n",
    "**Hints:** Use a dictionary to solve the problem\n",
    "\n",
    "===============================\n",
    "\n",
    "**Input:**\\\n",
    "10, 20, 20, 30, 10, 50, 90, STOP\n",
    "\n",
    "**Output:**\\\n",
    "10 - 2 times\\\n",
    "20 - 2 times\\\n",
    "30 - 1 times\\\n",
    "50 - 1 times\\\n",
    "90 - 1 times\n"
   ]
  },
  {
   "cell_type": "code",
   "execution_count": 2,
   "metadata": {
    "id": "snOKGA1d9vFC"
   },
   "outputs": [
    {
     "name": "stdout",
     "output_type": "stream",
     "text": [
      "enter a list ending with 'STOP': 425615616512\n",
      "425615616512-1 times\n"
     ]
    }
   ],
   "source": [
    "#todo\n",
    "arr = input(\"enter a list ending with 'STOP': \").split(\",\")\n",
    "arr1 = []\n",
    "for r in arr:\n",
    "  arr1.append(r.strip())\n",
    "\n",
    "done = []\n",
    "for r in arr1:\n",
    "  if r not in done and r != 'STOP':\n",
    "    print(r+\"-\"+str(arr1.count(r))+\" times\")\n",
    "    done.append(r)"
   ]
  },
  {
   "cell_type": "markdown",
   "metadata": {
    "id": "hAqjgwGNtDS2"
   },
   "source": [
    "### Task 13\n",
    "Write a Python program that takes a string as an input from the user and counts the frequency of each character using the dictionary. For solving this problem, you need to use each character as a key and its frequency as values. <font color='red'>[without using count() function]</font> \n",
    "\n",
    "===============================================================\n",
    "\n",
    "**Hint:** Need to create a new dictionary to store the frequency. Case is ignored (P and p are considered same).\n",
    "\n",
    "\n",
    "===============================================================\n",
    "\n",
    "**Input:**\\\n",
    "\"Python programming is fun\"\n",
    "\n",
    "**Output:**\\\n",
    "{'p': 2, 'y': 1, 't': 1, 'h': 1, 'o': 2, 'n': 3, 'r': 2, 'g': 2, 'a': 1, 'm': 2, 'i': 2, 's': 1, 'f': 1, 'u': 1}\n",
    "\n",
    "\n",
    "\n"
   ]
  },
  {
   "cell_type": "code",
   "execution_count": 54,
   "metadata": {
    "id": "-m2yPIT7tDS3"
   },
   "outputs": [
    {
     "name": "stdout",
     "output_type": "stream",
     "text": [
      "Enter a String: Python programming is fun\n",
      "{'p': 2, 'y': 1, 't': 1, 'h': 1, 'o': 2, 'n': 3, 'r': 2, 'g': 2, 'a': 1, 'm': 2, 'i': 2, 's': 1, 'f': 1, 'u': 1}\n"
     ]
    }
   ],
   "source": [
    "#todo\n",
    "string = input(\"Enter a String: \").lower().replace(\" \",\"\")\n",
    "dict = {}\n",
    "for r in string:\n",
    "  if r in dict:\n",
    "    dict[r] = dict[r]+1\n",
    "  else:\n",
    "    dict[r] = 1\n",
    "\n",
    "print(dict)"
   ]
  },
  {
   "cell_type": "markdown",
   "metadata": {
    "id": "QWf1zsBctDS6"
   },
   "source": [
    "### Task 14\n",
    "Suppose you are given the following dictionary where its values are lists. \n",
    "\n",
    "\n",
    "dict = {'A': [1,2,3], 'b': ['1', '2'], \"c\": [4, 5, 6, 7]}\n",
    "\n",
    "Write a Python program that counts the total number of items in the dictionary’s values and prints it. \n",
    "\n",
    "<font color='red'>[without using sum() , len(), count() function]</font> \n",
    "\n",
    "===============================================================\n",
    "\n",
    "**Output:**\\\n",
    "9\n",
    "\n"
   ]
  },
  {
   "cell_type": "code",
   "execution_count": 55,
   "metadata": {
    "id": "atnD3A1utDS6"
   },
   "outputs": [
    {
     "name": "stdout",
     "output_type": "stream",
     "text": [
      "9\n"
     ]
    }
   ],
   "source": [
    "#todo\n",
    "dict = {'A': [1,2,3], 'b': ['1', '2'], \"c\": [4, 5, 6, 7]}\n",
    "count = 0\n",
    "for r in  dict:\n",
    "  for j in dict[r]:\n",
    "    count = count + 1\n",
    "print(count)"
   ]
  },
  {
   "cell_type": "markdown",
   "metadata": {
    "id": "-imuPb3EtDTD"
   },
   "source": [
    "### Task 15\n",
    "\n",
    "Suppose you have been given the following list of tuples. \n",
    "\n",
    "list = [(\"a\", 1), (\"b\", 2), (\"a\", 3), (\"b\", 1), (\"a\", 2), (\"c\", 1)]\n",
    "\n",
    "Write a Python program that converts this list of tuples into a dictionary and prints the dictionary. \n",
    "\n",
    "<font color='red'>[You are not allowed to use set]</font> \n",
    "\n",
    "===============================================================\n",
    "\n",
    "**Hint:** Think of membership operators (in and not in).\n",
    "\n",
    "===============================================================\n",
    "\n",
    "**Output:**\n",
    "\n",
    "{'a': [1, 3, 2], 'b': [2, 1], 'c': [1]}\n",
    "\n",
    " \n"
   ]
  },
  {
   "cell_type": "code",
   "execution_count": 58,
   "metadata": {
    "id": "bBBcHpgYtDTE"
   },
   "outputs": [
    {
     "name": "stdout",
     "output_type": "stream",
     "text": [
      "{'a': [1, 3, 2], 'b': [2, 1], 'c': [1]}\n"
     ]
    }
   ],
   "source": [
    "#todo\n",
    "list = [(\"a\", 1), (\"b\", 2), (\"a\", 3), (\"b\", 1), (\"a\", 2), (\"c\", 1)]\n",
    "dict = {}\n",
    "for i in list:\n",
    "  dict[i[0]] = []\n",
    "\n",
    "\n",
    "for r in list:\n",
    "    dict[r[0]].append(r[1])\n",
    "  \n",
    "print(dict)"
   ]
  },
  {
   "cell_type": "markdown",
   "metadata": {
    "id": "UrxbFOWk5ASO"
   },
   "source": [
    "## Optional Tasks (16-20) [Ungraded]"
   ]
  },
  {
   "cell_type": "markdown",
   "metadata": {
    "id": "vtQRbX994-Se"
   },
   "source": [
    "### Task 16\n",
    "\n",
    "Given a list of tuples, the task is to multiply the elements of the tuple and return list of multiplied elements.\n",
    "\n",
    "===============================\n",
    "\n",
    "**Example 1:**\\\n",
    "[(2,3),(4,5),(6,7),(2,8)]\\\n",
    "**Output 1:**\\\n",
    "[6,20,42,16]\n",
    "\n",
    "=============================\n",
    "\n",
    "**Example 2:**\\\n",
    " [(11, 22), (33, 55), (55, 77), (11, 44)]\\\n",
    "**Output 2:**\\\n",
    "[242, 1815, 4235, 484]"
   ]
  },
  {
   "cell_type": "code",
   "execution_count": 67,
   "metadata": {
    "id": "xy-E_k6y5maj"
   },
   "outputs": [
    {
     "name": "stdout",
     "output_type": "stream",
     "text": [
      "[6, 20, 42, 16]\n"
     ]
    }
   ],
   "source": [
    "#todo\n",
    "arr = [(2,3),(4,5),(6,7),(2,8)]\n",
    "empty = []\n",
    "for r in arr:\n",
    "  empty.append(r[0]*r[1])\n",
    "print(empty)"
   ]
  },
  {
   "cell_type": "markdown",
   "metadata": {
    "id": "jZQHbegc-QBA"
   },
   "source": [
    "### Task 17\n",
    "\n",
    "Assume, you have been given a tuple.\n",
    "\n",
    "a_tuple = ( [1, 2, 3], [4, 5, 6], [7, 8, 9], [10, 11, 12])\n",
    "\n",
    "Write a Python program that asks the user for input (can be any data type) and **replaces the last element of each of the inner lists with the user given value.**\n",
    "\n",
    "===============================================================\n",
    "\n",
    "**Example 1:**\\\n",
    "Input: abc\\\n",
    "Output: ([1, 2, 'abc'], [4, 5, 'abc'], [7, 8, 'abc'], [10, 11, 'abc'])\n",
    "\n",
    "===============================================================\n",
    "\n",
    "**Example 2:**\\\n",
    "Input: 1000\\\n",
    "Output: ([1, 2, '1000'], [4, 5, '1000'], [7, 8, '1000'], [10, 11, '1000'])\n",
    "\n"
   ]
  },
  {
   "cell_type": "code",
   "execution_count": 69,
   "metadata": {
    "id": "SjdnEjCz5op1"
   },
   "outputs": [
    {
     "name": "stdout",
     "output_type": "stream",
     "text": [
      "Enter Something :1000\n",
      "([1, 2, '1000'], [4, 5, '1000'], [7, 8, '1000'], [10, 11, '1000'])\n"
     ]
    }
   ],
   "source": [
    "#todo\n",
    "word = input(\"Enter Something :\")\n",
    "arr = a_tuple = ( [1, 2, 3], [4, 5, 6], [7, 8, 9], [10, 11, 12])\n",
    "for r in arr:\n",
    "  r[len(r)-1] = word\n",
    "print(arr)"
   ]
  },
  {
   "cell_type": "markdown",
   "metadata": {
    "id": "dVZrZ8Od6WwM"
   },
   "source": [
    "### Task 18\n",
    "\n",
    "Suppose there is a dictionary named my_dictionary.\n",
    "\n",
    "my_dictionary = {'c1': 'Red', 'c2': 'Green', 'c3': None, 'd4': 'Blue'}.\n",
    "\n",
    "Now write a Python program to remove empty items in the dictionary. Empty items means keys without any values(None).\n",
    "\n",
    "===============================================================\n",
    "\n",
    "**Output:**\\\n",
    "{'c1':'Red','c2':'Green','d4':'Blue'}."
   ]
  },
  {
   "cell_type": "code",
   "execution_count": 74,
   "metadata": {
    "id": "cK9Nh7-F6YUE"
   },
   "outputs": [
    {
     "ename": "AttributeError",
     "evalue": "'dict' object has no attribute 'key'",
     "output_type": "error",
     "traceback": [
      "\u001b[1;31m---------------------------------------------------------------------------\u001b[0m",
      "\u001b[1;31mAttributeError\u001b[0m                            Traceback (most recent call last)",
      "\u001b[1;32m<ipython-input-74-23d36aa980b0>\u001b[0m in \u001b[0;36m<module>\u001b[1;34m\u001b[0m\n\u001b[0;32m      1\u001b[0m \u001b[1;31m#todo\u001b[0m\u001b[1;33m\u001b[0m\u001b[1;33m\u001b[0m\u001b[1;33m\u001b[0m\u001b[0m\n\u001b[0;32m      2\u001b[0m \u001b[0mmy_dictionary\u001b[0m \u001b[1;33m=\u001b[0m \u001b[1;33m{\u001b[0m\u001b[1;34m'c1'\u001b[0m\u001b[1;33m:\u001b[0m \u001b[1;34m'Red'\u001b[0m\u001b[1;33m,\u001b[0m \u001b[1;34m'c2'\u001b[0m\u001b[1;33m:\u001b[0m \u001b[1;34m'Green'\u001b[0m\u001b[1;33m,\u001b[0m \u001b[1;34m'c3'\u001b[0m\u001b[1;33m:\u001b[0m \u001b[1;32mNone\u001b[0m\u001b[1;33m,\u001b[0m \u001b[1;34m'd4'\u001b[0m\u001b[1;33m:\u001b[0m \u001b[1;34m'Blue'\u001b[0m\u001b[1;33m}\u001b[0m\u001b[1;33m\u001b[0m\u001b[1;33m\u001b[0m\u001b[0m\n\u001b[1;32m----> 3\u001b[1;33m \u001b[0mkeys\u001b[0m \u001b[1;33m=\u001b[0m \u001b[0mmy_dictionary\u001b[0m\u001b[1;33m.\u001b[0m\u001b[0mkey\u001b[0m\u001b[1;33m(\u001b[0m\u001b[1;33m)\u001b[0m\u001b[1;33m\u001b[0m\u001b[1;33m\u001b[0m\u001b[0m\n\u001b[0m\u001b[0;32m      4\u001b[0m \u001b[1;32mfor\u001b[0m \u001b[0mr\u001b[0m \u001b[1;32min\u001b[0m \u001b[0mkeys\u001b[0m\u001b[1;33m:\u001b[0m\u001b[1;33m\u001b[0m\u001b[1;33m\u001b[0m\u001b[0m\n\u001b[0;32m      5\u001b[0m   \u001b[1;32mif\u001b[0m \u001b[0mmy_dictionary\u001b[0m\u001b[1;33m[\u001b[0m\u001b[0mr\u001b[0m\u001b[1;33m]\u001b[0m \u001b[1;33m==\u001b[0m \u001b[1;32mNone\u001b[0m\u001b[1;33m:\u001b[0m\u001b[1;33m\u001b[0m\u001b[1;33m\u001b[0m\u001b[0m\n",
      "\u001b[1;31mAttributeError\u001b[0m: 'dict' object has no attribute 'key'"
     ]
    }
   ],
   "source": [
    "#todo\n",
    "my_dictionary = {'c1': 'Red', 'c2': 'Green', 'c3': None, 'd4': 'Blue'}\n",
    "keys = my_dictionary.key()\n",
    "for r in keys:\n",
    "  if my_dictionary[r] == None:\n",
    "    del my_dictionary[r]\n",
    "print(my_dictionary)\n"
   ]
  },
  {
   "cell_type": "markdown",
   "metadata": {
    "id": "_W2bOMJn62xF"
   },
   "source": [
    "### Task 19\n",
    "\n",
    "Given a range of values, extract all the items whose keys lie in range of values of a given dictionary:\n",
    "\n",
    "dictionary = {'a' : 6, 'b' : 7, 'c' : 9, 'd' : 8, 'e' : 11}\n",
    "\n",
    "===============================\n",
    "\n",
    "\n",
    "**Input 1:**\\\n",
    "9, 12\\\n",
    "**Output 1:**\\\n",
    "{'c': 9, 'e': 11}\n",
    "\n",
    "**Explanation**  Keys within 9 and 11 range extracted.\n",
    "\n",
    "=================================\n",
    "\n",
    "**Input 2:** \\\n",
    " 14, 18\n",
    "\n",
    "**Output 2 :**\\\n",
    " {}\n",
    "\n",
    "**Explanation :**  No values in range."
   ]
  },
  {
   "cell_type": "code",
   "execution_count": 77,
   "metadata": {
    "id": "MLh9VlLD633D"
   },
   "outputs": [
    {
     "name": "stdout",
     "output_type": "stream",
     "text": [
      "14,18\n",
      "{}\n"
     ]
    }
   ],
   "source": [
    "#todo\n",
    "range = input().strip().replace(\" \",\"\").split(\",\")\n",
    "empt = {}\n",
    "dictionary = {'a' : 6, 'b' : 7, 'c' : 9, 'd' : 8, 'e' : 11}\n",
    "for r in dictionary:\n",
    "  if dictionary[r]>= int(range[0]) and dictionary[r]<= int(range[1]):\n",
    "    empt[r] = dictionary[r]\n",
    "print(empt)"
   ]
  },
  {
   "cell_type": "markdown",
   "metadata": {
    "id": "zC94TVcD7LqM"
   },
   "source": [
    "### Task 20\n",
    "\n",
    "Given a list of tuples, the task is to group the tuples by matching the **second** element in the tuples. We can achieve this using **dictionary** by checking the second element in each tuple.\n",
    "[Do not need to take tuple as input, assume it is given]\n",
    "\n",
    "\n",
    "===============================\n",
    "\n",
    "**Example 1:**\\\n",
    "[(20, 80), (31, 80), (1, 22), (88, 11), (27, 11)]\\\n",
    "**Output1:**\\\n",
    "{80: [(20, 80), (31, 80)],\\\n",
    "         11: [(88, 11), (27, 11)],\\\n",
    "         22: [(1, 22)]}\n",
    "\n",
    "         \n",
    "============================================\n",
    "\n",
    "**Example 2 :**\\\n",
    "[(20, 'Sad'), (31, 'Sad'), (88, 'NotSad'), (27, 'NotSad')]\\\n",
    "**Output 2:**\\\n",
    "{'NotSad': [(88, 'NotSad'), (27, 'NotSad')],\\\n",
    "         'Sad: [(20, 'Sad'), (31, 'Sad')]}"
   ]
  },
  {
   "cell_type": "code",
   "execution_count": 90,
   "metadata": {
    "id": "zAunp7oZ7H-l"
   },
   "outputs": [
    {
     "name": "stdout",
     "output_type": "stream",
     "text": [
      "{80: [(20, 80), (31, 80)], 22: [(1, 22)], 11: [(88, 11), (27, 11)]}\n"
     ]
    }
   ],
   "source": [
    "#todo\n",
    "arr = [(20, 80), (31, 80), (1, 22), (88, 11), (27, 11)]\n",
    "empt = {}\n",
    "for r in arr:\n",
    "  if r[1] not in empt:\n",
    "    empt[r[1]] = [r]\n",
    "  else:\n",
    "    empt[r[1]].append(r)\n",
    "print(empt)"
   ]
  },
  {
   "cell_type": "code",
   "execution_count": null,
   "metadata": {},
   "outputs": [],
   "source": []
  }
 ],
 "metadata": {
  "colab": {
   "collapsed_sections": [],
   "name": "CSE110 Assignment04 (Tuple- Dictionary).ipynb",
   "provenance": []
  },
  "kernelspec": {
   "display_name": "Python 3",
   "language": "python",
   "name": "python3"
  },
  "language_info": {
   "codemirror_mode": {
    "name": "ipython",
    "version": 3
   },
   "file_extension": ".py",
   "mimetype": "text/x-python",
   "name": "python",
   "nbconvert_exporter": "python",
   "pygments_lexer": "ipython3",
   "version": "3.8.3"
  }
 },
 "nbformat": 4,
 "nbformat_minor": 1
}
