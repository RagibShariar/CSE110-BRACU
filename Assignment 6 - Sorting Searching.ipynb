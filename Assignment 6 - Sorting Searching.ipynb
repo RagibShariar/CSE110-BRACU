{
 "cells": [
  {
   "cell_type": "markdown",
   "metadata": {
    "id": "oMYzsTcnHEll"
   },
   "source": [
    "# CSE110 Assignment 6\n",
    "\n",
    "\n",
    "## Write the Python code of the following problems:\n",
    "**<font color='red'>[MUST MAINTAIN VARIABLE NAMING CONVENTIONS FOR ALL THE TASKS]</font>**"
   ]
  },
  {
   "cell_type": "markdown",
   "metadata": {
    "id": "jT-t2zlnHEll"
   },
   "source": [
    "### Task 1\n",
    "\n",
    "Given a list named my_list. <br/>\n",
    "my_list=[10,1,20,3,6,2,5,11,15,2,12,14,17,18,29] <br/>\n",
    "Now use bubble sort to sort my_list into ascending order.\n",
    "\n",
    "**Output**<br/>\n",
    "[1, 2, 2, 3, 5, 6, 10, 11, 12, 14, 15, 17, 18, 20, 29]"
   ]
  },
  {
   "cell_type": "code",
   "execution_count": null,
   "metadata": {
    "executionInfo": {
     "elapsed": 3026,
     "status": "ok",
     "timestamp": 1607519486474,
     "user": {
      "displayName": "Nadia Rubaiyat",
      "photoUrl": "",
      "userId": "06231355892473397655"
     },
     "user_tz": -360
    },
    "id": "7qXVakLgHElm"
   },
   "outputs": [],
   "source": [
    "#todo - Bubble sort starts arranging the elements from the top\n",
    "my_list=[10,1,20,3,6,2,5,11,15,2,12,14,17,18,29]\n",
    "\n",
    "for item in range(0,len(my_list)-1):\n",
    "    min_value=my_list[item]\n",
    "    min_index=item\n",
    "    for value in range(item,len(my_list)):\n",
    "        if my_list[value]<min_value:\n",
    "            min_value=my_list[value]\n",
    "            min_index=value\n",
    "    temp=min_value\n",
    "    my_list[min_index]= my_list[item]\n",
    "    my_list[item]=temp\n",
    "print(my_list)\n",
    "\n"
   ]
  },
  {
   "cell_type": "markdown",
   "metadata": {
    "id": "w1QgeWd2HElp"
   },
   "source": [
    "### Task 2\n",
    "\n",
    "Given a list named my_list. <br/>\n",
    "my_list=[10,1,20,3,6,2,5,11,15,2,12,14,17,18,29] <br/>\n",
    "Now use selection sort to sort my_list into ascending order.\n",
    "\n",
    "**Output**<br/>\n",
    "[1, 2, 2, 3, 5, 6, 10, 11, 12, 14, 15, 17, 18, 20, 29]\n",
    "\n"
   ]
  },
  {
   "cell_type": "code",
   "execution_count": null,
   "metadata": {
    "executionInfo": {
     "elapsed": 2243,
     "status": "ok",
     "timestamp": 1607519505131,
     "user": {
      "displayName": "Nadia Rubaiyat",
      "photoUrl": "",
      "userId": "06231355892473397655"
     },
     "user_tz": -360
    },
    "id": "am0B_8ICHElq"
   },
   "outputs": [],
   "source": [
    "#todo Selection sort starts arranging the elements from the bottom\n",
    "my_list=[10,1,20,3,6,2,5,11,15,2,12,14,17,18,29]\n",
    "for item in range(len(my_list)):\n",
    "    min_value=my_list[item]\n",
    "    min_index=item\n",
    "    for value in range(item+1,len(my_list)):\n",
    "        if my_list[value]<min_value:\n",
    "            min_value=my_list[value]\n",
    "            min_index=value\n",
    "    temp=my_list[min_index]\n",
    "    my_list[min_index]=my_list[item]\n",
    "    my_list[item]=temp\n",
    "print(my_list)"
   ]
  },
  {
   "cell_type": "markdown",
   "metadata": {
    "id": "j4ffr2CAHElt"
   },
   "source": [
    "### Task  3\n",
    "\n",
    "Given a list named my_list. <br/>\n",
    "my_list=[10,1,20,3,6,2,5,11,15,2,12,14,17,18,29] <br/>\n",
    "Now use any of the two sorts used above to sort the list in descending order.\n",
    "\n",
    "**Output**<br/>\n",
    "[29, 20, 18, 17, 15, 14, 12, 11, 10, 6, 5, 3, 2, 2, 1]\n"
   ]
  },
  {
   "cell_type": "code",
   "execution_count": null,
   "metadata": {
    "id": "n2X3YR-_HElt"
   },
   "outputs": [],
   "source": [
    "#todo\n",
    "my_list=[10,1,20,3,6,2,5,11,15,2,12,14,17,18,29]\n",
    "for item in range(0,len(my_list)-1):\n",
    "    max_value=my_list[item]\n",
    "    max_index=item\n",
    "    for value in range(item,len(my_list)):\n",
    "        if my_list[value]>max_value:\n",
    "            max_value=my_list[value]\n",
    "            max_index=value\n",
    "    temp=max_value\n",
    "    my_list[max_index]= my_list[item]\n",
    "    my_list[item]=temp\n",
    "print(my_list)"
   ]
  },
  {
   "cell_type": "markdown",
   "metadata": {
    "id": "9iYiiTWWHElw"
   },
   "source": [
    "### Task 4\n",
    "\n",
    "Suppose you have a sitting arrangement of the students of the final exam in a list. The list contains the last two digits of their roll number.<br/>\n",
    "\n",
    "sitting_list=[10,30,20,70,11,15,22,16,58,100,12,56,70,80] <br/>\n",
    "\n",
    "Now you want to organize the sitting arrangement. You decided to sort all the students in the even indices into ascending order and all the students in the odd indices  into descending order.  <br/>\n",
    "\n",
    "So write a python program that organizes the list for you the way you decided.<br/>\n",
    "\n",
    "\n",
    "**Sample Output**<br/>\n",
    "[10, 100, 11, 80, 12, 70, 20, 56, 22, 30, 58, 16, 70, 15]"
   ]
  },
  {
   "cell_type": "code",
   "execution_count": null,
   "metadata": {
    "id": "nPdUAKDJHElw"
   },
   "outputs": [],
   "source": [
    "#todo\n",
    "sitting_list=[10,30,20,70,11,15,22,16,58,100,12,56,70,80]\n",
    "list1=[]\n",
    "list2=[]\n",
    "sorted_list=[]\n",
    "counter1=0\n",
    "counter2=0\n",
    "for even_index in range(0,len(sitting_list),2):\n",
    "    list1.append(sitting_list[even_index])\n",
    "for odd_index in range(1,len(sitting_list),2):\n",
    "    list2.append(sitting_list[odd_index])\n",
    "sorted_list1=sorted(list1)\n",
    "sorted_list2=sorted(list2,reverse=True)\n",
    "\n",
    "for i in range(len(sitting_list)):\n",
    "    if i%2==0:\n",
    "        sorted_list.append(sorted_list1[counter1])\n",
    "        counter1+=1\n",
    "    else:\n",
    "        sorted_list.append(sorted_list2[counter2])\n",
    "        counter2+=1\n",
    "print(sorted_list)"
   ]
  },
  {
   "cell_type": "markdown",
   "metadata": {
    "id": "oVR1Tsa0HElz"
   },
   "source": [
    "### Task 5\n",
    "\n",
    "Suppose a list contains the final exam results of CSE110, PHY111, and MAT110 of each student in a listed form. Your task is to sort the list based on a course name that will be given by the user and print the names after sorting. <br/>\n",
    "\n",
    "For example, a list looks like <br/>\n",
    "lst = [ [\"Farzad\",95,87,91] , [\"Mahjabin\",92,90,83], [\"Sadman\",87,92,80], [\"Nakhla\",85,94,90] ] <br/>\n",
    "where for each list, 1st index is name, 2nd index is CSE110, 3rd index is PHY111 and 4th index is MAT110. \n",
    "\n",
    "=====================================================\n",
    "\n",
    "**Hint:**<br/>\n",
    "create a function for sorting, then call it everytime instead of rewriting the code.\n",
    "\n",
    "Get the data in the individual lists from the given nested list.\n",
    "\n",
    "=====================================================\n",
    "\n",
    "**Sample Input**<br/>\n",
    "MAT110\n",
    "\n",
    "**Sample Output**<br/>\n",
    "Farzad <br/>\n",
    "Nakhla <br/>\n",
    "Mahjabin <br/>\n",
    "Sadman\n",
    "\n",
    "\n"
   ]
  },
  {
   "cell_type": "code",
   "execution_count": null,
   "metadata": {
    "id": "539b2P1NHElz"
   },
   "outputs": [],
   "source": [
    "#todo\n",
    "Lst = [ ['Farzad',95,87,91] , ['Mahjabin',92,90,83], ['Sadman',87,92,80], ['Nakhla',85,94,90] ]\n",
    "L=['CSE110','PHY111','MAT110']\n",
    "user_input=str(input())\n",
    "if user_input=='CSE110':\n",
    "    index=1\n",
    "elif user_input=='PHY111':\n",
    "    index=2\n",
    "elif user_input=='MAT110':\n",
    "    index=3\n",
    "a_dict={}\n",
    "list1=[]\n",
    "for item in range(len(Lst)):\n",
    "    a_dict.update({Lst[item][index]:Lst[item][0]})\n",
    "    list1.append(Lst[item][index])\n",
    "a=sorted(list1, reverse= True)\n",
    "for value in a :\n",
    "    print(a_dict[value])"
   ]
  },
  {
   "cell_type": "markdown",
   "metadata": {
    "id": "B0Rqbyi4HEl2"
   },
   "source": [
    "### Task 6\n",
    "\n",
    "Suppose you have a list named my_list. Your task is to sort the list and print the count of numbers that have changed their position. <br/>\n",
    "my_list = [4,2,3,1,6,5] <br/>\n",
    "Sorted list would be [1,2,3,4,5,6] where 4 numbers have changed their position.\n",
    "\n",
    "\n",
    "**Sample Output**<br/>\n",
    "4"
   ]
  },
  {
   "cell_type": "code",
   "execution_count": null,
   "metadata": {
    "id": "AMc8jAa7HEl2"
   },
   "outputs": [],
   "source": [
    "#todo\n",
    "My_list = [4,2,3,1,6,5]\n",
    "counter=0\n",
    "for item in range(len(My_list)):\n",
    "    min=My_list[item]\n",
    "    min_index=item\n",
    "    for value in range(item+1,len(My_list)):\n",
    "        if My_list[item]>value:\n",
    "            min=My_list[value]\n",
    "            min_index=value\n",
    "            counter+=1\n",
    "    temp=value\n",
    "    My_list[value]=My_list[item]\n",
    "    My_list[item]=temp\n",
    "print(counter)"
   ]
  },
  {
   "cell_type": "markdown",
   "metadata": {
    "id": "iIH5n0sJHEl5"
   },
   "source": [
    "### Task 7\n",
    "\n",
    "Write a python program that takes two lists from the user, merges the two lists, sorts the list, and find the median of the elements of the two lists.\n",
    "\n",
    "=====================================================\n",
    "\n",
    "\n",
    "**Sample Input 1**<br/>\n",
    "list_one = [1,2,1,4] <br/>\n",
    "list_two = [5,4,1]\n",
    "\n",
    "\n",
    "**Sample Output 1**<br/>\n",
    "Sorted list = [1, 1, 1, 2, 4, 4, 5] <br/>\n",
    "Median = 2\n",
    "\n",
    "=====================================================\n",
    "\n",
    "\n",
    "**Sample Input 2**<br/>\n",
    "list_one= [1,7,9,10] <br/>\n",
    "list_two= [2,7,6,5]\n",
    "\n",
    "\n",
    "**Sample Output 2**<br/>\n",
    "Sorted list=[1, 2, 5, 6, 7, 7, 9, 10] <br/>\n",
    "Median=6.5\n",
    "\n"
   ]
  },
  {
   "cell_type": "code",
   "execution_count": null,
   "metadata": {
    "id": "KsFxC7XbHEl6"
   },
   "outputs": [],
   "source": [
    "#todo\n",
    "list_one= []\n",
    "list_two= []\n",
    "element1=int(input('Element no for 1st list: '))\n",
    "element2=int(input('Element no for 2nd list: '))\n",
    "for i in range(0,element1):\n",
    "    i=int(input('Enter element for first list: '))\n",
    "    list_one.append(i)\n",
    "for j in range(0,element2):\n",
    "    j=int(input('Enter element for second list: '))\n",
    "    list_one.append(j)\n",
    "new_list=list_one+list_two\n",
    "sorted_newlist=sorted(new_list)\n",
    "print('Sorted list=',sorted_newlist)\n",
    "length=len(sorted_newlist)\n",
    "\n",
    "if length%2!=0:\n",
    "    num=int((length+1)/2)\n",
    "\n",
    "    print('Median=',sorted_newlist[num-1])\n",
    "else:\n",
    "    index= int((length)//2)-1\n",
    "    print(index)\n",
    "    index1=int(((length)/2)+1)\n",
    "    print(index1)\n",
    "    median=float((sorted_newlist[index]+sorted_newlist[index1])/2)\n",
    "    print('Median=',median)"
   ]
  },
  {
   "cell_type": "markdown",
   "metadata": {
    "id": "-XKiwBR1HEl8"
   },
   "source": [
    "### Task 8\n",
    "\n",
    "\n",
    "Write a python program that takes a list from user containing both positive and negative numbers. The program then finds two pairs of values whose summation is closest to zero.\n",
    "\n",
    "=====================================================\n",
    "\n",
    "**Sample Input 1**<br/>\n",
    "list_one = [-10,15,2,4,-4,7,-8] \n",
    "\n",
    "\n",
    "**Sample Output 1**<br/>\n",
    "Two pairs which have the smallest sum = 4 and -4\n",
    "\n",
    "=====================================================\n",
    "\n",
    "\n",
    "**Sample Input 2**<br/>\n",
    "list_one = [1,-8,4,-7,-20,26,70,-85]\n",
    "\n",
    "\n",
    "**Sample Output 2**<br/>\n",
    "Two pairs which have the smallest sum = 4 and -7"
   ]
  },
  {
   "cell_type": "code",
   "execution_count": 1,
   "metadata": {
    "id": "5ORSGa5GHEl9"
   },
   "outputs": [
    {
     "name": "stdout",
     "output_type": "stream",
     "text": [
      "-4 4\n"
     ]
    }
   ],
   "source": [
    "#todo\n",
    "list_one=[-10,15,2,4,-4,7,-8]\n",
    "neg=[]\n",
    "pos=[]\n",
    "for i in list_one:\n",
    "    if i<0:\n",
    "        neg.append(i)\n",
    "    else:\n",
    "        pos.append(i)\n",
    "a=0\n",
    "b=0\n",
    "diff= 1000000\n",
    "for j in range(0,len(neg)):\n",
    "    minimum = pos[0] + neg[j]\n",
    "    if diff> minimum:\n",
    "        diff=minimum\n",
    "    for k in range(0,len(pos)):\n",
    "        min= pos[k]+neg[j]\n",
    "        min=abs(min)\n",
    "        if min< diff:\n",
    "            a=neg[j]\n",
    "            b=pos[k]\n",
    "            diff=min\n",
    "print(a,b)"
   ]
  },
  {
   "cell_type": "code",
   "execution_count": null,
   "metadata": {},
   "outputs": [],
   "source": []
  }
 ],
 "metadata": {
  "colab": {
   "collapsed_sections": [],
   "name": "CSE110 Assignment06 (Sorting).ipynb",
   "provenance": []
  },
  "kernelspec": {
   "display_name": "Python 3",
   "language": "python",
   "name": "python3"
  },
  "language_info": {
   "codemirror_mode": {
    "name": "ipython",
    "version": 3
   },
   "file_extension": ".py",
   "mimetype": "text/x-python",
   "name": "python",
   "nbconvert_exporter": "python",
   "pygments_lexer": "ipython3",
   "version": "3.8.3"
  }
 },
 "nbformat": 4,
 "nbformat_minor": 1
}
